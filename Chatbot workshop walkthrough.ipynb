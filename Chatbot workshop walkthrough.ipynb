{
 "cells": [
  {
   "cell_type": "markdown",
   "metadata": {
    "slideshow": {
     "slide_type": "slide"
    }
   },
   "source": [
    "# Let's get started\n",
    "\n",
    "## What do we need?\n",
    "\n",
    "- Laptop\n",
    "- Conda environment\n",
    "- Git\n",
    "- Text Editor\n",
    "- Motivation\n"
   ]
  },
  {
   "cell_type": "markdown",
   "metadata": {
    "slideshow": {
     "slide_type": "subslide"
    }
   },
   "source": [
    "## What are we going to do?\n",
    "\n",
    "- What is a chatbot\n",
    "- History\n",
    "- Parts of a chatbot\n",
    "- Experiment"
   ]
  },
  {
   "cell_type": "markdown",
   "metadata": {
    "slideshow": {
     "slide_type": "slide"
    }
   },
   "source": [
    "### What is a chatbot\n",
    "\n",
    "TODO"
   ]
  },
  {
   "cell_type": "markdown",
   "metadata": {
    "slideshow": {
     "slide_type": "slide"
    }
   },
   "source": [
    "### History of chatbots\n",
    "TODO"
   ]
  },
  {
   "cell_type": "markdown",
   "metadata": {
    "slideshow": {
     "slide_type": "slide"
    }
   },
   "source": [
    "### Parts of a chatbot\n",
    "\n",
    "1. NLP (Natural language processor)\n",
    "    We are going to use DialogFlow\n",
    "\n",
    "2. Compute response\n",
    "    \n",
    "3. Return the response to the user\n",
    "\n",
    "4. Machine learning"
   ]
  },
  {
   "cell_type": "markdown",
   "metadata": {
    "slideshow": {
     "slide_type": "slide"
    }
   },
   "source": [
    "# Dialogflow\n",
    "\n",
    "- Voice and conversational interface\n",
    "- Founded on 2010\n",
    "- Api.ai by Speaktoit\n",
    "- Bought by Google on 2016\n",
    "- Renamed on September 2017\n",
    "- Wide range of devices\n",
    "- 14++ languages\n",
    "- Analytical tools\n"
   ]
  },
  {
   "cell_type": "markdown",
   "metadata": {
    "slideshow": {
     "slide_type": "slide"
    }
   },
   "source": [
    "# Concepts\n",
    "\n",
    "0. Training phrases\n",
    "\n",
    "1. User initiates a conversation -> invoke the bot\n",
    "\n",
    "2. User requests information -> (parse information) -> entities \n",
    "\n",
    "3. Dialogflow send information to webhook\n",
    "\n",
    "4. Webhook parses the data, determines the answer and sends back to Dialogflow\n",
    "\n",
    "5. Diagloflow answer user's request.\n",
    "\n",
    "6. [Context information]\n",
    "\n",
    "\n",
    "### Training phrases\n",
    "\n",
    "Phrases used in order to train the machine\n",
    "\n",
    "### Entities\n",
    "\n",
    "Pieces of **useful** information"
   ]
  },
  {
   "cell_type": "markdown",
   "metadata": {
    "slideshow": {
     "slide_type": "slide"
    }
   },
   "source": [
    "# Building an agent\n",
    "\n",
    "1. Create agent\n",
    "\n",
    "2. Create intent\n",
    "  * Introduce training phrases\n",
    "  \n",
    "3. Try out\n",
    "\n",
    "4. Add responses\n",
    "\n",
    "5. Do #3"
   ]
  },
  {
   "cell_type": "markdown",
   "metadata": {
    "slideshow": {
     "slide_type": "slide"
    }
   },
   "source": [
    "# Basic fulfillment and conversation setup\n",
    "## Fulfillment (webhook)\n"
   ]
  },
  {
   "cell_type": "markdown",
   "metadata": {
    "slideshow": {
     "slide_type": "notes"
    }
   },
   "source": [
    "[fulfillment documentation](https://dialogflow.com/docs/getting-started/basic-fulfillment-conversation)\n",
    "\n",
    "## Run the notebook as slides\n",
    "\n",
    "`jupyter nbconvert \"Chatbot workshop walkthrough.ipynb\" --to slides --post serve`"
   ]
  }
 ],
 "metadata": {
  "celltoolbar": "Slideshow",
  "kernelspec": {
   "display_name": "Python 3",
   "language": "python",
   "name": "python3"
  },
  "language_info": {
   "codemirror_mode": {
    "name": "ipython",
    "version": 3
   },
   "file_extension": ".py",
   "mimetype": "text/x-python",
   "name": "python",
   "nbconvert_exporter": "python",
   "pygments_lexer": "ipython3",
   "version": "3.6.2"
  }
 },
 "nbformat": 4,
 "nbformat_minor": 2
}
